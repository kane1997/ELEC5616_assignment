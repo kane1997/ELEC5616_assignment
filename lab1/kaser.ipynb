{
 "cells": [
  {
   "cell_type": "code",
   "execution_count": 1,
   "metadata": {},
   "outputs": [],
   "source": [
    "import random\n",
    "import string\n",
    "import pandas as pd\n",
    "import matplotlib.pyplot as plt\n",
    "\n",
    "from collections import Counter\n",
    "from typing import List, Tuple\n"
   ]
  },
  {
   "cell_type": "code",
   "execution_count": 2,
   "metadata": {},
   "outputs": [],
   "source": [
    "plain_text = b'It was the best of times, it was the worst of times, it was the age of wisdom, it was the age of foolishness, it was the epoch of belief, it was the epoch of incredulity, it was the season of Light, it was the season of Darkness, it was the spring of hope, it was the winter of despair, we had everything before us, we had nothing before us, we were all going direct to Heaven, we were all going direct the other way - in short, the period was so far like the present period, that some of its noisiest authorities insisted on its being received, for good or for evil, in the superlative degree of comparison only. '\n"
   ]
  },
  {
   "cell_type": "code",
   "execution_count": 4,
   "metadata": {},
   "outputs": [
    {
     "ename": "ImportError",
     "evalue": "cannot import name '_XOR' from 'Crypto.Cipher' (/Library/Frameworks/Python.framework/Versions/3.10/lib/python3.10/site-packages/Crypto/Cipher/__init__.py)",
     "output_type": "error",
     "traceback": [
      "\u001b[0;31m---------------------------------------------------------------------------\u001b[0m",
      "\u001b[0;31mImportError\u001b[0m                               Traceback (most recent call last)",
      "\u001b[0;32m/var/folders/m1/9sflhk6d3k125k8y3dzr6yf80000gn/T/ipykernel_45354/3658075718.py\u001b[0m in \u001b[0;36m<module>\u001b[0;34m\u001b[0m\n\u001b[0;32m----> 1\u001b[0;31m \u001b[0;32mfrom\u001b[0m \u001b[0mCrypto\u001b[0m\u001b[0;34m.\u001b[0m\u001b[0mCipher\u001b[0m \u001b[0;32mimport\u001b[0m \u001b[0m_XOR\u001b[0m\u001b[0;34m\u001b[0m\u001b[0;34m\u001b[0m\u001b[0m\n\u001b[0m\u001b[1;32m      2\u001b[0m \u001b[0;34m\u001b[0m\u001b[0m\n\u001b[1;32m      3\u001b[0m \u001b[0;34m\u001b[0m\u001b[0m\n\u001b[1;32m      4\u001b[0m \u001b[0;32mclass\u001b[0m \u001b[0mXORCipher\u001b[0m\u001b[0;34m:\u001b[0m\u001b[0;34m\u001b[0m\u001b[0;34m\u001b[0m\u001b[0m\n\u001b[1;32m      5\u001b[0m     \u001b[0;34m\"\"\"XOR cipher object\"\"\"\u001b[0m\u001b[0;34m\u001b[0m\u001b[0;34m\u001b[0m\u001b[0m\n",
      "\u001b[0;31mImportError\u001b[0m: cannot import name '_XOR' from 'Crypto.Cipher' (/Library/Frameworks/Python.framework/Versions/3.10/lib/python3.10/site-packages/Crypto/Cipher/__init__.py)"
     ]
    }
   ],
   "source": [
    "from Crypto.Cipher import _XOR\n",
    "\n",
    "\n",
    "class XORCipher:\n",
    "    \"\"\"XOR cipher object\"\"\"\n",
    "\n",
    "    def __init__(self, key, *args, **kwargs):\n",
    "        \"\"\"Initialize a XOR cipher object\n",
    "\n",
    "        See also `new()` at the module level.\"\"\"\n",
    "        self._cipher = _XOR.new(key, *args, **kwargs)\n",
    "        self.block_size = self._cipher.block_size\n",
    "        self.key_size = self._cipher.key_size\n",
    "\n",
    "    def encrypt(self, plaintext):\n",
    "        \"\"\"Encrypt a piece of data.\n",
    "        :Parameters:\n",
    "          plaintext : byte string\n",
    "            The piece of data to encrypt. It can be of any size.\n",
    "        :Return: the encrypted data (byte string, as long as the\n",
    "          plaintext).\n",
    "        \"\"\"\n",
    "        return self._cipher.encrypt(plaintext)\n",
    "\n",
    "    def decrypt(self, ciphertext):\n",
    "        \"\"\"Decrypt a piece of data.\n",
    "        :Parameters:\n",
    "          ciphertext : byte string\n",
    "            The piece of data to decrypt. It can be of any size.\n",
    "        :Return: the decrypted data (byte string, as long as the\n",
    "          ciphertext).\n",
    "        \"\"\"\n",
    "        return self._cipher.decrypt(ciphertext)\n",
    "\n",
    "\n",
    "def new(key, *args, **kwargs):\n",
    "    \"\"\"Create a new XOR cipher\n",
    "    :Parameters:\n",
    "      key : byte string\n",
    "        The secret key to use in the symmetric cipher.\n",
    "        Its length may vary from 1 to 32 bytes.\n",
    "    :Return: an `XORCipher` object\n",
    "    \"\"\"\n",
    "    return XORCipher(key, *args, **kwargs)\n",
    "\n",
    "\n",
    "#: Size of a data block (in bytes)\n",
    "block_size = 1\n",
    "#: Size of a key (in bytes)\n",
    "key_size = xrange(1, 32+1)\n"
   ]
  }
 ],
 "metadata": {
  "interpreter": {
   "hash": "aee8b7b246df8f9039afb4144a1f6fd8d2ca17a180786b69acc140d282b71a49"
  },
  "kernelspec": {
   "display_name": "Python 3.10.0 64-bit",
   "language": "python",
   "name": "python3"
  },
  "language_info": {
   "codemirror_mode": {
    "name": "ipython",
    "version": 3
   },
   "file_extension": ".py",
   "mimetype": "text/x-python",
   "name": "python",
   "nbconvert_exporter": "python",
   "pygments_lexer": "ipython3",
   "version": "3.10.0"
  },
  "orig_nbformat": 4
 },
 "nbformat": 4,
 "nbformat_minor": 2
}
