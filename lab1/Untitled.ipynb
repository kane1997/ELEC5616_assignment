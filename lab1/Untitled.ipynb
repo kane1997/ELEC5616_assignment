{
 "cells": [
  {
   "cell_type": "code",
   "execution_count": 10,
   "id": "1a85e712",
   "metadata": {},
   "outputs": [
    {
     "name": "stdout",
     "output_type": "stream",
     "text": [
      "Melbourne Cup: $8,000 on Horse 'Explosive Jack' [transaction id: {2473}]\n",
      "Melbourne Cup: $8,000 on Horse 'Johnny Get Angry' [transaction id: {7123]\n",
      "3d7c212b35c328c92bee66cc4591f9cfb729b2e32bd0c8d96b325eef5d98464e\n",
      "2364cb28e9ca08751e72655fbf282bcaa75198a8c0aceec7cf9e6dee22fb8380\n"
     ]
    }
   ],
   "source": [
    "from Crypto.Hash import SHA256\n",
    "from time import time\n",
    "import random\n",
    "\n",
    "h = SHA256.new()\n",
    "g = SHA256.new()\n",
    "msga1 =\"Melbourne Cup: $8,000 on Horse 'Explosive Jack' [transaction id: {%d}]\"% random.randint(0,10000)\n",
    "m_dash=\"Melbourne Cup: $8,000 on Horse 'Explosive Jack' [transaction id: {%d}]\"\n",
    "print(msga1)\n",
    "msgb1=\"Melbourne Cup: $8,000 on Horse 'Johnny Get Angry' [transaction id: {%d]\"% random.randint(0,10000)\n",
    "print(msgb1)\n",
    "msga_text=h.update(b\"Melbourne Cup: $8,000 on Horse 'Explosive Jack' [transaction id: {%d}]\"% random.randint(0,10000))\n",
    "msgb_text=g.update(b\" Melbourne Cup: $8,000 on Horse 'Johnny Get Angry' [transaction id: {%d}]\"% random.randint(0,10000))\n",
    "msga = h.hexdigest()\n",
    "msgb = g.hexdigest()\n",
    "print(msga)\n",
    "print(msgb)"
   ]
  },
  {
   "cell_type": "code",
   "execution_count": 20,
   "id": "5850ea2b",
   "metadata": {},
   "outputs": [
    {
     "ename": "TypeError",
     "evalue": "Strings must be encoded before hashing",
     "output_type": "error",
     "traceback": [
      "\u001b[0;31m---------------------------------------------------------------------------\u001b[0m",
      "\u001b[0;31mTypeError\u001b[0m                                 Traceback (most recent call last)",
      "\u001b[0;32m/var/folders/m1/9sflhk6d3k125k8y3dzr6yf80000gn/T/ipykernel_14603/4120238964.py\u001b[0m in \u001b[0;36m<module>\u001b[0;34m\u001b[0m\n\u001b[1;32m     12\u001b[0m         \u001b[0mn\u001b[0m \u001b[0;34m+=\u001b[0m \u001b[0;36m1\u001b[0m\u001b[0;34m\u001b[0m\u001b[0;34m\u001b[0m\u001b[0m\n\u001b[1;32m     13\u001b[0m \u001b[0;34m\u001b[0m\u001b[0m\n\u001b[0;32m---> 14\u001b[0;31m \u001b[0mfind_collision\u001b[0m\u001b[0;34m(\u001b[0m\u001b[0;34m)\u001b[0m\u001b[0;34m\u001b[0m\u001b[0;34m\u001b[0m\u001b[0m\n\u001b[0m",
      "\u001b[0;32m/var/folders/m1/9sflhk6d3k125k8y3dzr6yf80000gn/T/ipykernel_14603/4120238964.py\u001b[0m in \u001b[0;36mfind_collision\u001b[0;34m()\u001b[0m\n\u001b[1;32m      6\u001b[0m     \u001b[0mn\u001b[0m \u001b[0;34m=\u001b[0m \u001b[0;36m0\u001b[0m\u001b[0;34m\u001b[0m\u001b[0;34m\u001b[0m\u001b[0m\n\u001b[1;32m      7\u001b[0m     \u001b[0;32mwhile\u001b[0m \u001b[0;32mTrue\u001b[0m\u001b[0;34m:\u001b[0m\u001b[0;34m\u001b[0m\u001b[0;34m\u001b[0m\u001b[0m\n\u001b[0;32m----> 8\u001b[0;31m         \u001b[0;32mif\u001b[0m \u001b[0msha256\u001b[0m\u001b[0;34m(\u001b[0m\u001b[0mmsga\u001b[0m \u001b[0;34m%\u001b[0m \u001b[0mn\u001b[0m\u001b[0;34m)\u001b[0m\u001b[0;34m.\u001b[0m\u001b[0mdigest\u001b[0m\u001b[0;34m(\u001b[0m\u001b[0;34m)\u001b[0m\u001b[0;34m[\u001b[0m\u001b[0;34m:\u001b[0m\u001b[0;36m4\u001b[0m\u001b[0;34m]\u001b[0m \u001b[0;34m==\u001b[0m \u001b[0msha256\u001b[0m\u001b[0;34m(\u001b[0m\u001b[0mmsgb\u001b[0m \u001b[0;34m%\u001b[0m \u001b[0mn\u001b[0m\u001b[0;34m)\u001b[0m\u001b[0;34m.\u001b[0m\u001b[0mdigest\u001b[0m\u001b[0;34m(\u001b[0m\u001b[0;34m)\u001b[0m\u001b[0;34m[\u001b[0m\u001b[0;34m:\u001b[0m\u001b[0;36m4\u001b[0m\u001b[0;34m]\u001b[0m\u001b[0;34m:\u001b[0m\u001b[0;34m\u001b[0m\u001b[0;34m\u001b[0m\u001b[0m\n\u001b[0m\u001b[1;32m      9\u001b[0m             \u001b[0mprint\u001b[0m \u001b[0;34m(\u001b[0m\u001b[0mmsga\u001b[0m \u001b[0;34m%\u001b[0m \u001b[0mn\u001b[0m\u001b[0;34m)\u001b[0m\u001b[0;34m\u001b[0m\u001b[0;34m\u001b[0m\u001b[0m\n\u001b[1;32m     10\u001b[0m             \u001b[0mprint\u001b[0m \u001b[0;34m(\u001b[0m\u001b[0mmsgb\u001b[0m \u001b[0;34m%\u001b[0m \u001b[0mn\u001b[0m\u001b[0;34m)\u001b[0m\u001b[0;34m\u001b[0m\u001b[0;34m\u001b[0m\u001b[0m\n",
      "\u001b[0;31mTypeError\u001b[0m: Strings must be encoded before hashing"
     ]
    }
   ],
   "source": [
    "def find_collision():\n",
    "    from hashlib import sha256\n",
    "    msga = \"Melbourne Cup: $8,000 on Horse 'Explosive Jack' [transaction id: {%d}]\"\n",
    "    msgb = \"Melbourne Cup: $8,000 on Horse 'Johnny Get Angry' [transaction id: {%d}]\"\n",
    "    seen = {}\n",
    "    n = 0\n",
    "    while True:\n",
    "        if sha256(msga % n).digest()[:4] == sha256(msgb % n).digest()[:4]:\n",
    "            print (msga % n)\n",
    "            print (msgb % n)\n",
    "            break\n",
    "        n += 1\n",
    "\n",
    "find_collision()"
   ]
  },
  {
   "cell_type": "code",
   "execution_count": null,
   "id": "358ebd88",
   "metadata": {},
   "outputs": [],
   "source": []
  }
 ],
 "metadata": {
  "kernelspec": {
   "display_name": "Python 3.10.0 64-bit",
   "language": "python",
   "name": "python3100jvsc74a57bd0aee8b7b246df8f9039afb4144a1f6fd8d2ca17a180786b69acc140d282b71a49"
  },
  "language_info": {
   "codemirror_mode": {
    "name": "ipython",
    "version": 3
   },
   "file_extension": ".py",
   "mimetype": "text/x-python",
   "name": "python",
   "nbconvert_exporter": "python",
   "pygments_lexer": "ipython3",
   "version": "3.10.0"
  }
 },
 "nbformat": 4,
 "nbformat_minor": 5
}
