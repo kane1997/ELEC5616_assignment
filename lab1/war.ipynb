{
 "cells": [
  {
   "cell_type": "code",
   "execution_count": 2,
   "metadata": {},
   "outputs": [
    {
     "name": "stdout",
     "output_type": "stream",
     "text": [
      "Finding collisions against b'CONFIDENTIAL: Daniel Boringcliffe, an FBI agent, is our primary informant of hacker activity in the group Anonymous and goes under the username Tflow'\n",
      "\n",
      "Attempting to match simplified 0-hex char hash (0 bits): \n",
      "End message: \"Melbourne Cup: $8,000 on Horse 'Johnny Get Angry' [transaction id: {1}]\"\n",
      "0 different message / hash combinations were tested in total over 0.00 seconds\n",
      "0 attempts to find a collision were expected (2**(n-1)) [assuming no hash duplicates]\n",
      "\n",
      "Attempting to match simplified 1-hex char hash (4 bits): 0\n",
      "End message: \"Melbourne Cup: $8,000 on Horse 'Johnny Get Angry' [transaction id: {13}]\"\n",
      "12 different message / hash combinations were tested in total over 0.00 seconds\n",
      "8 attempts to find a collision were expected (2**(n-1)) [assuming no hash duplicates]\n",
      "\n",
      "Attempting to match simplified 2-hex char hash (8 bits): 0f\n",
      "End message: \"Melbourne Cup: $8,000 on Horse 'Johnny Get Angry' [transaction id: {322}]\"\n",
      "321 different message / hash combinations were tested in total over 0.00 seconds\n",
      "128 attempts to find a collision were expected (2**(n-1)) [assuming no hash duplicates]\n",
      "\n",
      "Attempting to match simplified 3-hex char hash (12 bits): 0f3\n",
      "End message: \"Melbourne Cup: $8,000 on Horse 'Johnny Get Angry' [transaction id: {326}]\"\n",
      "325 different message / hash combinations were tested in total over 0.00 seconds\n",
      "2048 attempts to find a collision were expected (2**(n-1)) [assuming no hash duplicates]\n",
      "\n",
      "Attempting to match simplified 4-hex char hash (16 bits): 0f32\n",
      "End message: \"Melbourne Cup: $8,000 on Horse 'Johnny Get Angry' [transaction id: {2616}]\"\n",
      "2615 different message / hash combinations were tested in total over 0.01 seconds\n",
      "32768 attempts to find a collision were expected (2**(n-1)) [assuming no hash duplicates]\n",
      "\n",
      "Attempting to match simplified 5-hex char hash (20 bits): 0f32d\n",
      "End message: \"Melbourne Cup: $8,000 on Horse 'Johnny Get Angry' [transaction id: {2818684}]\"\n",
      "2818683 different message / hash combinations were tested in total over 6.64 seconds\n",
      "524288 attempts to find a collision were expected (2**(n-1)) [assuming no hash duplicates]\n",
      "\n",
      "Attempting to match simplified 6-hex char hash (24 bits): 0f32d7\n",
      "End message: \"Melbourne Cup: $8,000 on Horse 'Johnny Get Angry' [transaction id: {32089547}]\"\n",
      "32089546 different message / hash combinations were tested in total over 75.60 seconds\n",
      "8388608 attempts to find a collision were expected (2**(n-1)) [assuming no hash duplicates]\n",
      "\n",
      "Attempting to match simplified 7-hex char hash (28 bits): 0f32d78\n",
      "End message: \"Melbourne Cup: $8,000 on Horse 'Johnny Get Angry' [transaction id: {470911658}]\"\n",
      "470911657 different message / hash combinations were tested in total over 4372.05 seconds\n",
      "134217728 attempts to find a collision were expected (2**(n-1)) [assuming no hash duplicates]\n",
      "\n"
     ]
    }
   ],
   "source": [
    "from time import time\n",
    "import random\n",
    "from Crypto.Hash import MD5\n",
    "\n",
    "#####\n",
    "## This example shows the impracticality of trying to find a collision when using a collision resistant hash function\n",
    "\n",
    "# Set up the initial key, message and modified message (m_dash)\n",
    "k = \"evilgenius\"\n",
    "m = 'CONFIDENTIAL: Daniel Boringcliffe, an FBI agent, is our primary informant of hacker activity in the group Anonymous and goes under the username Tflow'\n",
    "# m = \"Melbourne Cup: $8,000 on Horse 'Explosive Jack' [transaction id: {%d}]\" % random.randint(1000, 10000)\n",
    "# All strings in Python 3 are Unicode by default - we need to convert them to ASCII for use in hash functions\n",
    "m = m.encode(\"ascii\")\n",
    "m_dash = \"Melbourne Cup: $8,000 on Horse 'Johnny Get Angry' [transaction id: {%d}]\" \n",
    "print(\"Finding collisions against %s\" % m)\n",
    "print()\n",
    "\n",
    "\n",
    "# Try to find hash collisions for increasingly lengthier hashes\n",
    "for shortened_to in range(0, 8):\n",
    "  # Calculate the hash up to N hex characters which we want to match against\n",
    "  original_hash = MD5.new(m).hexdigest()[:shortened_to]\n",
    "  # Each hex character represents 4 bits as 0-9A-F = 16 = 2 ** 4\n",
    "  print(\"Attempting to match simplified %d-hex char hash (%d bits): %s\" %\n",
    "        (shortened_to, shortened_to * 4, original_hash))\n",
    "\n",
    "  start_time = time()\n",
    "  total_hashes = 0\n",
    "  nonce = 0\n",
    "  while True:\n",
    "    # This nonce is the value we use to modify the message such that it will have a different hash each time\n",
    "    nonce += 1\n",
    "    updated_text = m_dash % nonce\n",
    "    updated_text = updated_text.encode(\"ascii\")\n",
    "    h = MD5.new(updated_text)\n",
    "    impersonator_hash = h.hexdigest()[:shortened_to]\n",
    "    # If the 'impersonator hash' collides with the original hash, we found our collision\n",
    "    if original_hash == impersonator_hash:\n",
    "      break\n",
    "    # Else, loop around and try another variation\n",
    "    total_hashes += 1\n",
    "\n",
    "  end_time = time()\n",
    "  print('End message: \"%s\"' % (m_dash % nonce))\n",
    "  print(\"%d different message / hash combinations were tested in total over %0.2f seconds\" %\n",
    "        (total_hashes, end_time - start_time))\n",
    "  print(\n",
    "      \"%d attempts to find a collision were expected (2**(n-1)) [assuming no hash duplicates]\" % 2**((shortened_to*4)-1))\n",
    "  print()\n"
   ]
  },
  {
   "cell_type": "code",
   "execution_count": null,
   "metadata": {},
   "outputs": [
    {
     "ename": "NameError",
     "evalue": "name 'start' is not defined",
     "output_type": "error",
     "traceback": [
      "\u001b[0;31m---------------------------------------------------------------------------\u001b[0m",
      "\u001b[0;31mNameError\u001b[0m                                 Traceback (most recent call last)",
      "\u001b[1;32m/Users/kaiweizhao/Desktop/ELEC5616/lab1/war.ipynb Cell 2'\u001b[0m in \u001b[0;36m<cell line: 7>\u001b[0;34m()\u001b[0m\n\u001b[1;32m      <a href='vscode-notebook-cell:/Users/kaiweizhao/Desktop/ELEC5616/lab1/war.ipynb#ch0000001?line=8'>9</a>\u001b[0m ps \u001b[39m=\u001b[39m combinations_with_replacement(string\u001b[39m.\u001b[39mdigits, i)\n\u001b[1;32m     <a href='vscode-notebook-cell:/Users/kaiweizhao/Desktop/ELEC5616/lab1/war.ipynb#ch0000001?line=9'>10</a>\u001b[0m \u001b[39mfor\u001b[39;00m p \u001b[39min\u001b[39;00m ps:\n\u001b[0;32m---> <a href='vscode-notebook-cell:/Users/kaiweizhao/Desktop/ELEC5616/lab1/war.ipynb#ch0000001?line=10'>11</a>\u001b[0m     to_hash \u001b[39m=\u001b[39m start \u001b[39m+\u001b[39m \u001b[39m'\u001b[39m\u001b[39m'\u001b[39m\u001b[39m.\u001b[39mjoin(p)\n\u001b[1;32m     <a href='vscode-notebook-cell:/Users/kaiweizhao/Desktop/ELEC5616/lab1/war.ipynb#ch0000001?line=12'>13</a>\u001b[0m     m \u001b[39m=\u001b[39m md5()\n\u001b[1;32m     <a href='vscode-notebook-cell:/Users/kaiweizhao/Desktop/ELEC5616/lab1/war.ipynb#ch0000001?line=13'>14</a>\u001b[0m     m\u001b[39m.\u001b[39mupdate(to_hash\u001b[39m.\u001b[39mencode(\u001b[39m'\u001b[39m\u001b[39mutf-8\u001b[39m\u001b[39m'\u001b[39m))\n",
      "\u001b[0;31mNameError\u001b[0m: name 'start' is not defined"
     ]
    }
   ],
   "source": [
    "from hashlib import md5\n",
    "from itertools import combinations_with_replacement\n",
    "import string\n",
    "\n",
    "startingbytes = '0f'\n",
    "\n",
    "for i in range(1, 25):  # MD5 collisions starts from here loop work\n",
    "\n",
    "    ps = combinations_with_replacement(string.digits, i)\n",
    "    start = '32d7835026b4da2ad3475b66eaddfe'\n",
    "    for p in ps:\n",
    "        to_hash = start + ''.join(p)\n",
    "\n",
    "        m = md5()\n",
    "        m.update(to_hash.encode('utf-8'))\n",
    "        then_hash = m.hexdigest()\n",
    "\n",
    "        # it checks for collision of MD5 string\n",
    "        if then_hash[:2] == start and then_hash[2:].isnumeric():\n",
    "            print(\"COLLISON HASHES\")\n",
    "            print(f\"{to_hash} -> {then_hash}\")\n",
    "            exit()\n"
   ]
  }
 ],
 "metadata": {
  "interpreter": {
   "hash": "aee8b7b246df8f9039afb4144a1f6fd8d2ca17a180786b69acc140d282b71a49"
  },
  "kernelspec": {
   "display_name": "Python 3.10.0 64-bit",
   "language": "python",
   "name": "python3"
  },
  "language_info": {
   "codemirror_mode": {
    "name": "ipython",
    "version": 3
   },
   "file_extension": ".py",
   "mimetype": "text/x-python",
   "name": "python",
   "nbconvert_exporter": "python",
   "pygments_lexer": "ipython3",
   "version": "3.9.7"
  },
  "orig_nbformat": 4
 },
 "nbformat": 4,
 "nbformat_minor": 2
}
