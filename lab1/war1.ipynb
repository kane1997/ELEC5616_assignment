{
 "cells": [
  {
   "cell_type": "code",
   "execution_count": 70,
   "metadata": {},
   "outputs": [],
   "source": [
    "from Crypto.Hash import SHA256\n",
    "import random\n",
    "from time import time\n",
    "import string\n",
    "import random\n"
   ]
  },
  {
   "cell_type": "code",
   "execution_count": 71,
   "metadata": {},
   "outputs": [],
   "source": [
    "m = 'Look, Dodgy Dave is a total fraud.'\n",
    "m = m.encode(\"ascii\")\n",
    "\n"
   ]
  },
  {
   "cell_type": "code",
   "execution_count": 72,
   "metadata": {},
   "outputs": [
    {
     "name": "stdout",
     "output_type": "stream",
     "text": [
      "Attempting to match simplified 0-hex char hash (0 bits): \n",
      "Attempting to match simplified 1-hex char hash (4 bits): b\n",
      "Attempting to match simplified 2-hex char hash (8 bits): bc\n",
      "Attempting to match simplified 3-hex char hash (12 bits): bc9\n",
      "Attempting to match simplified 4-hex char hash (16 bits): bc9c\n",
      "Attempting to match simplified 5-hex char hash (20 bits): bc9cc\n",
      "Attempting to match simplified 6-hex char hash (24 bits): bc9ccf\n",
      "Attempting to match simplified 7-hex char hash (28 bits): bc9ccf3\n"
     ]
    }
   ],
   "source": [
    "for shortened_to in range(0, 8):\n",
    "      # Calculate the hash up to N hex characters which we want to match against\n",
    "  original_hash = SHA256.new(m).hexdigest()[:shortened_to]\n",
    "  # Each hex character represents 4 bits as 0-9A-F = 16 = 2 ** 4\n",
    "  print(\"Attempting to match simplified %d-hex char hash (%d bits): %s\" %\n",
    "        (shortened_to, shortened_to * 4, original_hash))\n",
    "  "
   ]
  },
  {
   "cell_type": "code",
   "execution_count": 73,
   "metadata": {},
   "outputs": [],
   "source": [
    "# def str_generator(n):\n",
    "#     chars=string.ascii_letters+string.digits\n",
    "#     return \"\".join(random.choice(chars) for _ in range(n))\n"
   ]
  },
  {
   "cell_type": "code",
   "execution_count": 82,
   "metadata": {},
   "outputs": [
    {
     "name": "stdout",
     "output_type": "stream",
     "text": [
      "b'70'\n",
      "70\n",
      "bc9ccf3\n"
     ]
    }
   ],
   "source": [
    "# n = random.randint(1, 200)\n",
    "m_dash = random.randint(1, 200)\n",
    "um_dash = repr(m_dash).encode(\"ascii\")\n",
    "print(um_dash)\n",
    "print(m_dash)\n",
    "print(original_hash)\n"
   ]
  },
  {
   "cell_type": "code",
   "execution_count": 87,
   "metadata": {},
   "outputs": [
    {
     "ename": "KeyboardInterrupt",
     "evalue": "",
     "output_type": "error",
     "traceback": [
      "\u001b[0;31m---------------------------------------------------------------------------\u001b[0m",
      "\u001b[0;31mKeyboardInterrupt\u001b[0m                         Traceback (most recent call last)",
      "\u001b[0;32m/var/folders/m1/9sflhk6d3k125k8y3dzr6yf80000gn/T/ipykernel_24884/3124270404.py\u001b[0m in \u001b[0;36m<module>\u001b[0;34m\u001b[0m\n\u001b[1;32m      8\u001b[0m     \u001b[0mupdated_text\u001b[0m \u001b[0;34m=\u001b[0m \u001b[0mrepr\u001b[0m\u001b[0;34m(\u001b[0m\u001b[0mupdated_text\u001b[0m\u001b[0;34m)\u001b[0m\u001b[0;34m.\u001b[0m\u001b[0mencode\u001b[0m\u001b[0;34m(\u001b[0m\u001b[0;34m\"ascii\"\u001b[0m\u001b[0;34m)\u001b[0m\u001b[0;34m\u001b[0m\u001b[0;34m\u001b[0m\u001b[0m\n\u001b[1;32m      9\u001b[0m     \u001b[0mh\u001b[0m \u001b[0;34m=\u001b[0m \u001b[0mSHA256\u001b[0m\u001b[0;34m.\u001b[0m\u001b[0mnew\u001b[0m\u001b[0;34m(\u001b[0m\u001b[0mupdated_text\u001b[0m\u001b[0;34m)\u001b[0m\u001b[0;34m\u001b[0m\u001b[0;34m\u001b[0m\u001b[0m\n\u001b[0;32m---> 10\u001b[0;31m     \u001b[0mimpersonator_hash\u001b[0m \u001b[0;34m=\u001b[0m \u001b[0mh\u001b[0m\u001b[0;34m.\u001b[0m\u001b[0mhexdigest\u001b[0m\u001b[0;34m(\u001b[0m\u001b[0;34m)\u001b[0m\u001b[0;34m[\u001b[0m\u001b[0;34m:\u001b[0m\u001b[0mshortened_to\u001b[0m\u001b[0;34m]\u001b[0m\u001b[0;34m\u001b[0m\u001b[0;34m\u001b[0m\u001b[0m\n\u001b[0m\u001b[1;32m     11\u001b[0m     \u001b[0;31m# If the 'impersonator hash' collides with the original hash, we found our collision\u001b[0m\u001b[0;34m\u001b[0m\u001b[0;34m\u001b[0m\u001b[0m\n\u001b[1;32m     12\u001b[0m     \u001b[0;32mif\u001b[0m \u001b[0moriginal_hash\u001b[0m \u001b[0;34m==\u001b[0m \u001b[0mimpersonator_hash\u001b[0m\u001b[0;34m:\u001b[0m\u001b[0;34m\u001b[0m\u001b[0;34m\u001b[0m\u001b[0m\n",
      "\u001b[0;32m/Library/Frameworks/Python.framework/Versions/3.10/lib/python3.10/site-packages/Crypto/Hash/SHA256.py\u001b[0m in \u001b[0;36mhexdigest\u001b[0;34m(self)\u001b[0m\n\u001b[1;32m    130\u001b[0m         \"\"\"\n\u001b[1;32m    131\u001b[0m \u001b[0;34m\u001b[0m\u001b[0m\n\u001b[0;32m--> 132\u001b[0;31m         \u001b[0;32mreturn\u001b[0m \u001b[0;34m\"\"\u001b[0m\u001b[0;34m.\u001b[0m\u001b[0mjoin\u001b[0m\u001b[0;34m(\u001b[0m\u001b[0;34m[\u001b[0m\u001b[0;34m\"%02x\"\u001b[0m \u001b[0;34m%\u001b[0m \u001b[0mbord\u001b[0m\u001b[0;34m(\u001b[0m\u001b[0mx\u001b[0m\u001b[0;34m)\u001b[0m \u001b[0;32mfor\u001b[0m \u001b[0mx\u001b[0m \u001b[0;32min\u001b[0m \u001b[0mself\u001b[0m\u001b[0;34m.\u001b[0m\u001b[0mdigest\u001b[0m\u001b[0;34m(\u001b[0m\u001b[0;34m)\u001b[0m\u001b[0;34m]\u001b[0m\u001b[0;34m)\u001b[0m\u001b[0;34m\u001b[0m\u001b[0;34m\u001b[0m\u001b[0m\n\u001b[0m\u001b[1;32m    133\u001b[0m \u001b[0;34m\u001b[0m\u001b[0m\n\u001b[1;32m    134\u001b[0m     \u001b[0;32mdef\u001b[0m \u001b[0mcopy\u001b[0m\u001b[0;34m(\u001b[0m\u001b[0mself\u001b[0m\u001b[0;34m)\u001b[0m\u001b[0;34m:\u001b[0m\u001b[0;34m\u001b[0m\u001b[0;34m\u001b[0m\u001b[0m\n",
      "\u001b[0;32m/Library/Frameworks/Python.framework/Versions/3.10/lib/python3.10/site-packages/Crypto/Hash/SHA256.py\u001b[0m in \u001b[0;36m<listcomp>\u001b[0;34m(.0)\u001b[0m\n\u001b[1;32m    130\u001b[0m         \"\"\"\n\u001b[1;32m    131\u001b[0m \u001b[0;34m\u001b[0m\u001b[0m\n\u001b[0;32m--> 132\u001b[0;31m         \u001b[0;32mreturn\u001b[0m \u001b[0;34m\"\"\u001b[0m\u001b[0;34m.\u001b[0m\u001b[0mjoin\u001b[0m\u001b[0;34m(\u001b[0m\u001b[0;34m[\u001b[0m\u001b[0;34m\"%02x\"\u001b[0m \u001b[0;34m%\u001b[0m \u001b[0mbord\u001b[0m\u001b[0;34m(\u001b[0m\u001b[0mx\u001b[0m\u001b[0;34m)\u001b[0m \u001b[0;32mfor\u001b[0m \u001b[0mx\u001b[0m \u001b[0;32min\u001b[0m \u001b[0mself\u001b[0m\u001b[0;34m.\u001b[0m\u001b[0mdigest\u001b[0m\u001b[0;34m(\u001b[0m\u001b[0;34m)\u001b[0m\u001b[0;34m]\u001b[0m\u001b[0;34m)\u001b[0m\u001b[0;34m\u001b[0m\u001b[0;34m\u001b[0m\u001b[0m\n\u001b[0m\u001b[1;32m    133\u001b[0m \u001b[0;34m\u001b[0m\u001b[0m\n\u001b[1;32m    134\u001b[0m     \u001b[0;32mdef\u001b[0m \u001b[0mcopy\u001b[0m\u001b[0;34m(\u001b[0m\u001b[0mself\u001b[0m\u001b[0;34m)\u001b[0m\u001b[0;34m:\u001b[0m\u001b[0;34m\u001b[0m\u001b[0;34m\u001b[0m\u001b[0m\n",
      "\u001b[0;32m/Library/Frameworks/Python.framework/Versions/3.10/lib/python3.10/site-packages/Crypto/Util/py3compat.py\u001b[0m in \u001b[0;36mbord\u001b[0;34m(s)\u001b[0m\n\u001b[1;32m     93\u001b[0m         \u001b[0;32melse\u001b[0m\u001b[0;34m:\u001b[0m\u001b[0;34m\u001b[0m\u001b[0;34m\u001b[0m\u001b[0m\n\u001b[1;32m     94\u001b[0m             \u001b[0;32mreturn\u001b[0m \u001b[0mbytes\u001b[0m\u001b[0;34m(\u001b[0m\u001b[0ms\u001b[0m\u001b[0;34m)\u001b[0m\u001b[0;34m\u001b[0m\u001b[0;34m\u001b[0m\u001b[0m\n\u001b[0;32m---> 95\u001b[0;31m     \u001b[0;32mdef\u001b[0m \u001b[0mbord\u001b[0m\u001b[0;34m(\u001b[0m\u001b[0ms\u001b[0m\u001b[0;34m)\u001b[0m\u001b[0;34m:\u001b[0m\u001b[0;34m\u001b[0m\u001b[0;34m\u001b[0m\u001b[0m\n\u001b[0m\u001b[1;32m     96\u001b[0m         \u001b[0;32mreturn\u001b[0m \u001b[0ms\u001b[0m\u001b[0;34m\u001b[0m\u001b[0;34m\u001b[0m\u001b[0m\n\u001b[1;32m     97\u001b[0m     \u001b[0;32mdef\u001b[0m \u001b[0mtobytes\u001b[0m\u001b[0;34m(\u001b[0m\u001b[0ms\u001b[0m\u001b[0;34m)\u001b[0m\u001b[0;34m:\u001b[0m\u001b[0;34m\u001b[0m\u001b[0;34m\u001b[0m\u001b[0m\n",
      "\u001b[0;31mKeyboardInterrupt\u001b[0m: "
     ]
    }
   ],
   "source": [
    "start_time = time()\n",
    "total_hashes = 0\n",
    "nonce = 0\n",
    "while True:\n",
    "    # This nonce is the value we use to modify the message such that it will have a different hash each time\n",
    "    nonce += 1\n",
    "    updated_text = m_dash % nonce\n",
    "    updated_text = repr(updated_text).encode(\"ascii\")\n",
    "    h = SHA256.new(updated_text)\n",
    "    impersonator_hash = h.hexdigest()[:shortened_to]\n",
    "    # If the 'impersonator hash' collides with the original hash, we found our collision\n",
    "    if original_hash == impersonator_hash:\n",
    "      break\n",
    "    # Else, loop around and try another variation\n",
    "    total_hashes += 1\n",
    "\n",
    "end_time = time()\n",
    "print('End message: \"%s\"' % (m_dash % nonce))\n",
    "print(\"%d different message / hash combinations were tested in total over %0.2f seconds\" %\n",
    "        (total_hashes, end_time - start_time))\n",
    "print(\n",
    "      \"%d attempts to find a collision were expected (2**(n-1)) [assuming no hash duplicates]\" % 2**((shortened_to*4)-1))\n",
    "print()\n"
   ]
  },
  {
   "cell_type": "code",
   "execution_count": 1,
   "metadata": {},
   "outputs": [
    {
     "ename": "KeyboardInterrupt",
     "evalue": "",
     "output_type": "error",
     "traceback": [
      "\u001b[0;31m---------------------------------------------------------------------------\u001b[0m",
      "\u001b[0;31mKeyboardInterrupt\u001b[0m                         Traceback (most recent call last)",
      "\u001b[1;32m/Users/kaiweizhao/Desktop/ELEC5616/lab1/war1.ipynb Cell 7'\u001b[0m in \u001b[0;36m<cell line: 12>\u001b[0;34m()\u001b[0m\n\u001b[1;32m      <a href='vscode-notebook-cell:/Users/kaiweizhao/Desktop/ELEC5616/lab1/war1.ipynb#ch0000007?line=6'>7</a>\u001b[0m \u001b[39mhash\u001b[39m \u001b[39m=\u001b[39m \u001b[39m\"\u001b[39m\u001b[39m0f32d7835026b4da2ad3475b66eaddfe\u001b[39m\u001b[39m\"\u001b[39m\n\u001b[1;32m     <a href='vscode-notebook-cell:/Users/kaiweizhao/Desktop/ELEC5616/lab1/war1.ipynb#ch0000007?line=9'>10</a>\u001b[0m \u001b[39mwhile\u001b[39;00m \u001b[39mTrue\u001b[39;00m:\n\u001b[1;32m     <a href='vscode-notebook-cell:/Users/kaiweizhao/Desktop/ELEC5616/lab1/war1.ipynb#ch0000007?line=10'>11</a>\u001b[0m   \u001b[39m# Generate random string and hash it.\u001b[39;00m\n\u001b[0;32m---> <a href='vscode-notebook-cell:/Users/kaiweizhao/Desktop/ELEC5616/lab1/war1.ipynb#ch0000007?line=11'>12</a>\u001b[0m   randomStr \u001b[39m=\u001b[39m \u001b[39m'\u001b[39;49m\u001b[39m'\u001b[39;49m\u001b[39m.\u001b[39;49mjoin(random\u001b[39m.\u001b[39;49mchoice(\n\u001b[1;32m     <a href='vscode-notebook-cell:/Users/kaiweizhao/Desktop/ELEC5616/lab1/war1.ipynb#ch0000007?line=12'>13</a>\u001b[0m       string\u001b[39m.\u001b[39;49mascii_uppercase \u001b[39m+\u001b[39;49m string\u001b[39m.\u001b[39;49mdigits) \u001b[39mfor\u001b[39;49;00m _ \u001b[39min\u001b[39;49;00m \u001b[39mrange\u001b[39;49m(\u001b[39m20\u001b[39;49m))\n\u001b[1;32m     <a href='vscode-notebook-cell:/Users/kaiweizhao/Desktop/ELEC5616/lab1/war1.ipynb#ch0000007?line=13'>14</a>\u001b[0m   h_attempt \u001b[39m=\u001b[39m MD5\u001b[39m.\u001b[39mnew(randomStr\u001b[39m.\u001b[39mencode(\u001b[39m\"\u001b[39m\u001b[39mascii\u001b[39m\u001b[39m\"\u001b[39m))\u001b[39m.\u001b[39mhexdigest()\n\u001b[1;32m     <a href='vscode-notebook-cell:/Users/kaiweizhao/Desktop/ELEC5616/lab1/war1.ipynb#ch0000007?line=14'>15</a>\u001b[0m   \u001b[39mif\u001b[39;00m (h_attempt \u001b[39m==\u001b[39m \u001b[39mhash\u001b[39m):\n",
      "\u001b[1;32m/Users/kaiweizhao/Desktop/ELEC5616/lab1/war1.ipynb Cell 7'\u001b[0m in \u001b[0;36m<genexpr>\u001b[0;34m(.0)\u001b[0m\n\u001b[1;32m      <a href='vscode-notebook-cell:/Users/kaiweizhao/Desktop/ELEC5616/lab1/war1.ipynb#ch0000007?line=6'>7</a>\u001b[0m \u001b[39mhash\u001b[39m \u001b[39m=\u001b[39m \u001b[39m\"\u001b[39m\u001b[39m0f32d7835026b4da2ad3475b66eaddfe\u001b[39m\u001b[39m\"\u001b[39m\n\u001b[1;32m     <a href='vscode-notebook-cell:/Users/kaiweizhao/Desktop/ELEC5616/lab1/war1.ipynb#ch0000007?line=9'>10</a>\u001b[0m \u001b[39mwhile\u001b[39;00m \u001b[39mTrue\u001b[39;00m:\n\u001b[1;32m     <a href='vscode-notebook-cell:/Users/kaiweizhao/Desktop/ELEC5616/lab1/war1.ipynb#ch0000007?line=10'>11</a>\u001b[0m   \u001b[39m# Generate random string and hash it.\u001b[39;00m\n\u001b[0;32m---> <a href='vscode-notebook-cell:/Users/kaiweizhao/Desktop/ELEC5616/lab1/war1.ipynb#ch0000007?line=11'>12</a>\u001b[0m   randomStr \u001b[39m=\u001b[39m \u001b[39m'\u001b[39m\u001b[39m'\u001b[39m\u001b[39m.\u001b[39mjoin(random\u001b[39m.\u001b[39mchoice(\n\u001b[1;32m     <a href='vscode-notebook-cell:/Users/kaiweizhao/Desktop/ELEC5616/lab1/war1.ipynb#ch0000007?line=12'>13</a>\u001b[0m       string\u001b[39m.\u001b[39mascii_uppercase \u001b[39m+\u001b[39m string\u001b[39m.\u001b[39mdigits) \u001b[39mfor\u001b[39;00m _ \u001b[39min\u001b[39;00m \u001b[39mrange\u001b[39m(\u001b[39m20\u001b[39m))\n\u001b[1;32m     <a href='vscode-notebook-cell:/Users/kaiweizhao/Desktop/ELEC5616/lab1/war1.ipynb#ch0000007?line=13'>14</a>\u001b[0m   h_attempt \u001b[39m=\u001b[39m MD5\u001b[39m.\u001b[39mnew(randomStr\u001b[39m.\u001b[39mencode(\u001b[39m\"\u001b[39m\u001b[39mascii\u001b[39m\u001b[39m\"\u001b[39m))\u001b[39m.\u001b[39mhexdigest()\n\u001b[1;32m     <a href='vscode-notebook-cell:/Users/kaiweizhao/Desktop/ELEC5616/lab1/war1.ipynb#ch0000007?line=14'>15</a>\u001b[0m   \u001b[39mif\u001b[39;00m (h_attempt \u001b[39m==\u001b[39m \u001b[39mhash\u001b[39m):\n",
      "\u001b[0;31mKeyboardInterrupt\u001b[0m: "
     ]
    }
   ],
   "source": [
    "\n",
    "from time import time\n",
    "import string\n",
    "import random\n",
    "\n",
    "from Crypto.Hash import MD5\n",
    "\n",
    "hash = \"0f32d7835026b4da2ad3475b66eaddfe\"\n",
    "\n",
    "\n",
    "while True:\n",
    "  # Generate random string and hash it.\n",
    "  randomStr = ''.join(random.choice(\n",
    "      string.ascii_uppercase + string.digits) for _ in range(20))\n",
    "  h_attempt = MD5.new(randomStr.encode(\"ascii\")).hexdigest()\n",
    "  if (h_attempt == hash):\n",
    "    print(randomStr)\n",
    "    break\n"
   ]
  }
 ],
 "metadata": {
  "interpreter": {
   "hash": "aee8b7b246df8f9039afb4144a1f6fd8d2ca17a180786b69acc140d282b71a49"
  },
  "kernelspec": {
   "display_name": "Python 3.10.0 64-bit",
   "language": "python",
   "name": "python3"
  },
  "language_info": {
   "codemirror_mode": {
    "name": "ipython",
    "version": 3
   },
   "file_extension": ".py",
   "mimetype": "text/x-python",
   "name": "python",
   "nbconvert_exporter": "python",
   "pygments_lexer": "ipython3",
   "version": "3.9.7"
  },
  "orig_nbformat": 4
 },
 "nbformat": 4,
 "nbformat_minor": 2
}
