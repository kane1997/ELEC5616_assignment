{
 "cells": [
  {
   "cell_type": "code",
   "execution_count": 9,
   "metadata": {},
   "outputs": [],
   "source": [
    "from Crypto.Hash import HMAC\n",
    "from Crypto.Hash import SHA256\n"
   ]
  },
  {
   "cell_type": "code",
   "execution_count": 10,
   "metadata": {},
   "outputs": [
    {
     "name": "stdout",
     "output_type": "stream",
     "text": [
      "Now let's perform message authentication using HMAC\n"
     ]
    }
   ],
   "source": [
    "print(\"Now let's perform message authentication using HMAC\")\n"
   ]
  },
  {
   "cell_type": "code",
   "execution_count": 11,
   "metadata": {},
   "outputs": [
    {
     "name": "stdout",
     "output_type": "stream",
     "text": [
      "=-=-==-=-==-=-==-=-==-=-=\n"
     ]
    }
   ],
   "source": [
    "print(\"=-=-=\" * 5)\n"
   ]
  },
  {
   "cell_type": "code",
   "execution_count": 12,
   "metadata": {},
   "outputs": [],
   "source": [
    "secret = \"Batman's Secret for Gordon\".encode(\"ascii\")\n",
    "msg = \"Batman, meet me in the alley behind Arkham Asylum. Commission Gordon.\".encode(\n",
    "    \"ascii\")\n",
    "mac = \"bb46120970e71e1d63253a124c19ed4bd7f4268410f4e57e637d66f82d30ac3e\"\n"
   ]
  },
  {
   "cell_type": "code",
   "execution_count": 13,
   "metadata": {},
   "outputs": [
    {
     "name": "stdout",
     "output_type": "stream",
     "text": [
      "Batman received a message supposedly from Commissioner Gordon, which says:\n",
      "b'Batman, meet me in the alley behind Arkham Asylum. Commission Gordon.'\n",
      "It came with a MAC: bb46120970e71e1d63253a124c19ed4bd7f4268410f4e57e637d66f82d30ac3e\n"
     ]
    }
   ],
   "source": [
    "print(\"Batman received a message supposedly from Commissioner Gordon, which says:\")\n",
    "print(msg)\n",
    "print(\"It came with a MAC: %s\" % mac)\n"
   ]
  },
  {
   "cell_type": "code",
   "execution_count": 14,
   "metadata": {},
   "outputs": [],
   "source": [
    "hmac = HMAC.new(secret, digestmod=SHA256)\n",
    "# We add the message in by updating the hash\n",
    "hmac.update(msg)\n"
   ]
  },
  {
   "cell_type": "code",
   "execution_count": 15,
   "metadata": {},
   "outputs": [],
   "source": [
    "chunked_hmac = HMAC.new(secret, digestmod=SHA256)\n",
    "chunked_hmac.update(\"Batman, \".encode(\"ascii\"))\n",
    "chunked_hmac.update(\n",
    "    \"meet me in the alley behind Arkham Asylum. \".encode(\"ascii\"))\n",
    "chunked_hmac.update(\"Commission Gordon.\".encode(\"ascii\"))\n"
   ]
  },
  {
   "cell_type": "code",
   "execution_count": 18,
   "metadata": {},
   "outputs": [
    {
     "name": "stdout",
     "output_type": "stream",
     "text": [
      "Batman used HMAC and confirmed Gordon's identity\n",
      "\n"
     ]
    }
   ],
   "source": [
    "if hmac.hexdigest() == chunked_hmac.hexdigest() == mac:\n",
    "    print(\"Batman used HMAC and confirmed Gordon's identity\")\n",
    "else:\n",
    "    print(\"It was someone trying to pretend it was Gordon... Joker's henchmen perhaps?\")\n",
    "\n",
    "print()\n",
    "# This will pause the console on Windows machines so that the output can be read\n",
    "\n"
   ]
  },
  {
   "cell_type": "code",
   "execution_count": null,
   "metadata": {},
   "outputs": [],
   "source": [
    "input(\"End of task -- press Enter\")\n"
   ]
  }
 ],
 "metadata": {
  "interpreter": {
   "hash": "aee8b7b246df8f9039afb4144a1f6fd8d2ca17a180786b69acc140d282b71a49"
  },
  "kernelspec": {
   "display_name": "Python 3.10.0 64-bit",
   "language": "python",
   "name": "python3"
  },
  "language_info": {
   "codemirror_mode": {
    "name": "ipython",
    "version": 3
   },
   "file_extension": ".py",
   "mimetype": "text/x-python",
   "name": "python",
   "nbconvert_exporter": "python",
   "pygments_lexer": "ipython3",
   "version": "3.10.0"
  },
  "orig_nbformat": 4
 },
 "nbformat": 4,
 "nbformat_minor": 2
}
