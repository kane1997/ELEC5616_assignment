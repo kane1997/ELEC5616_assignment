{
 "cells": [
  {
   "cell_type": "code",
   "execution_count": 21,
   "metadata": {},
   "outputs": [
    {
     "name": "stdout",
     "output_type": "stream",
     "text": [
      "203\n"
     ]
    }
   ],
   "source": [
    "print(458%(2**8-1))"
   ]
  },
  {
   "cell_type": "code",
   "execution_count": 22,
   "metadata": {},
   "outputs": [
    {
     "name": "stdout",
     "output_type": "stream",
     "text": [
      "26\n"
     ]
    }
   ],
   "source": [
    "print(26%52)"
   ]
  },
  {
   "cell_type": "code",
   "execution_count": 23,
   "metadata": {},
   "outputs": [
    {
     "name": "stdout",
     "output_type": "stream",
     "text": [
      "HA\n"
     ]
    }
   ],
   "source": [
    "cards = []\n",
    "for suit in 'SDHC':\n",
    "    for card_type in \"A23456789XJQK\":\n",
    "        cards.append(suit + card_type)\n",
    "        \n",
    "print(cards[26])\n"
   ]
  },
  {
   "cell_type": "code",
   "execution_count": null,
   "metadata": {},
   "outputs": [],
   "source": []
  },
  {
   "cell_type": "code",
   "execution_count": 24,
   "metadata": {},
   "outputs": [
    {
     "name": "stdout",
     "output_type": "stream",
     "text": [
      "b'DNA test results: Luke Skywalker and Darth Vader are related'\n"
     ]
    }
   ],
   "source": [
    "m = \"DNA test results: Luke Skywalker and Darth Vader are related\".encode(\n",
    "    \"ascii\")\n",
    "print(m)"
   ]
  },
  {
   "cell_type": "code",
   "execution_count": 25,
   "metadata": {},
   "outputs": [
    {
     "ename": "ImportError",
     "evalue": "cannot import name 'XOR' from 'Crypto.Cipher' (/Library/Frameworks/Python.framework/Versions/3.10/lib/python3.10/site-packages/Crypto/Cipher/__init__.py)",
     "output_type": "error",
     "traceback": [
      "\u001b[0;31m---------------------------------------------------------------------------\u001b[0m",
      "\u001b[0;31mImportError\u001b[0m                               Traceback (most recent call last)",
      "\u001b[0;32m/var/folders/m1/9sflhk6d3k125k8y3dzr6yf80000gn/T/ipykernel_40191/2575283498.py\u001b[0m in \u001b[0;36m<module>\u001b[0;34m\u001b[0m\n\u001b[0;32m----> 1\u001b[0;31m \u001b[0;32mfrom\u001b[0m \u001b[0mCrypto\u001b[0m\u001b[0;34m.\u001b[0m\u001b[0mCipher\u001b[0m \u001b[0;32mimport\u001b[0m \u001b[0mXOR\u001b[0m\u001b[0;34m\u001b[0m\u001b[0;34m\u001b[0m\u001b[0m\n\u001b[0m",
      "\u001b[0;31mImportError\u001b[0m: cannot import name 'XOR' from 'Crypto.Cipher' (/Library/Frameworks/Python.framework/Versions/3.10/lib/python3.10/site-packages/Crypto/Cipher/__init__.py)"
     ]
    }
   ],
   "source": [
    "from Crypto.Cipher import XOR\n"
   ]
  },
  {
   "cell_type": "code",
   "execution_count": null,
   "metadata": {},
   "outputs": [
    {
     "name": "stdout",
     "output_type": "stream",
     "text": [
      "203\n"
     ]
    }
   ],
   "source": [
    "a, b = 23, 21\n",
    "c = 2**8-1\n",
    "# To show what happens when you select a bad set of values,\n",
    "# set c = 2**8 and watch what happens to 'x % 2'\n",
    "# It will always flip between 0 and 1 -- i.e. is 100% predictable\n",
    "x=19\n",
    "\n",
    "def lcg_generate(x):\n",
    "    return (a * x + b) % c\n",
    "\n",
    "x=lcg_generate(x)\n",
    "\n",
    "print(x)\n"
   ]
  },
  {
   "cell_type": "code",
   "execution_count": null,
   "metadata": {},
   "outputs": [
    {
     "name": "stdout",
     "output_type": "stream",
     "text": [
      "Starting the LCG with seed = 19\n",
      "H4 (81 1)\n",
      "SA (156 0)\n",
      "S8 (111 1)\n",
      "HJ (36 0)\n",
      "H4 (81 1)\n",
      "SA (156 0)\n",
      "S8 (111 1)\n",
      "HJ (36 0)\n",
      "H4 (81 1)\n",
      "SA (156 0)\n",
      "S8 (111 1)\n",
      "HJ (36 0)\n",
      "H4 (81 1)\n",
      "SA (156 0)\n",
      "S8 (111 1)\n"
     ]
    }
   ],
   "source": [
    "a, b = 30, 21\n",
    "c = 2**8-1\n",
    "# To show what happens when you select a bad set of values,\n",
    "# set c = 2**8 and watch what happens to 'x % 2'\n",
    "# It will always flip between 0 and 1 -- i.e. is 100% predictable\n",
    "\n",
    "\n",
    "def lcg_generate(x):\n",
    "    return (a * x + b) % c\n",
    "\n",
    "\n",
    "# This generates a full set of cards: each suit with each type\n",
    "# To understand the syntax, Google for \"list comprehensions\"\n",
    "cards = [s+n for s in \"SDHC\" for n in \"A23456789XJQK\"]\n",
    "# The list comprehension above is equivalent to the for loops below\n",
    "# cards = []\n",
    "# for suit in 'SDHC':\n",
    "#     for card_type in \"A23456789XJQK\":\n",
    "#         cards.append(suit + card_type)\n",
    "\n",
    "if __name__ == \"__main__\":\n",
    "    x = 19\n",
    "    print(\"Starting the LCG with seed =\", x)\n",
    "    for i in range(15):\n",
    "        x = lcg_generate(x)\n",
    "        print(\"%s (%d %d)\" % (cards[x % 52], x, x % 2))\n"
   ]
  },
  {
   "cell_type": "code",
   "execution_count": null,
   "metadata": {},
   "outputs": [
    {
     "name": "stdout",
     "output_type": "stream",
     "text": [
      "86\n"
     ]
    }
   ],
   "source": [
    "prng_vals=[19]\n",
    "index=range(200)\n",
    "\n",
    "for i in index:\n",
    "    prng_vals.append(lcg_generate(prng_vals[-1]))\n",
    "    prng_vals=prng_vals[0:len(index)]\n",
    "    \n",
    "print(prng_vals[-1])\n",
    "    "
   ]
  },
  {
   "cell_type": "code",
   "execution_count": null,
   "metadata": {},
   "outputs": [
    {
     "data": {
      "text/plain": [
       "<matplotlib.collections.PathCollection at 0x120746c50>"
      ]
     },
     "execution_count": 11,
     "metadata": {},
     "output_type": "execute_result"
    },
    {
     "data": {
      "image/png": "[encoded data removed]",
      "text/plain": [
       "<Figure size 432x288 with 1 Axes>"
      ]
     },
     "metadata": {
      "needs_background": "light"
     },
     "output_type": "display_data"
    }
   ],
   "source": [
    "from matplotlib import pyplot\n",
    "\n",
    "pyplot.scatter(index, prng_vals)"
   ]
  },
  {
   "cell_type": "code",
   "execution_count": 32,
   "metadata": {},
   "outputs": [
    {
     "name": "stdout",
     "output_type": "stream",
     "text": [
      "Generated random sequence with length 200 beginning with 19.\n"
     ]
    },
    {
     "data": {
      "text/plain": [
       "<matplotlib.collections.PathCollection at 0x120913a00>"
      ]
     },
     "execution_count": 32,
     "metadata": {},
     "output_type": "execute_result"
    },
    {
     "data": {
      "image/png": "[encoded data removed]",
      "text/plain": [
       "<Figure size 432x288 with 1 Axes>"
      ]
     },
     "metadata": {
      "needs_background": "light"
     },
     "output_type": "display_data"
    }
   ],
   "source": [
    "\n",
    "from matplotlib import pyplot\n",
    "#Parameters\n",
    "starting_seed= 19\n",
    "a,b=23,21\n",
    "C=2**7\n",
    "\n",
    "\n",
    "def lcg_generate(x):\n",
    "    return (a * x + b) % c\n",
    "#Generate the PRNG sequence using the previous value as the seed for the next\n",
    "prng_vals= [starting_seed]\n",
    "index =range(200)\n",
    "for i in index:\n",
    "     prng_vals.append(lcg_generate(prng_vals[-1]))\n",
    "print(f\"Generated random sequence with length %d beginning with %d.\"%(len(index),prng_vals[0]))\n",
    "#Plot values\n",
    "prng_vals =prng_vals[0:len(index)]\n",
    "pyplot.scatter(index,prng_vals)"
   ]
  },
  {
   "cell_type": "code",
   "execution_count": 33,
   "metadata": {},
   "outputs": [],
   "source": [
    "import modulefinder\n",
    "\n",
    "print()"
   ]
  },
  {
   "cell_type": "code",
   "execution_count": 35,
   "metadata": {},
   "outputs": [
    {
     "name": "stdout",
     "output_type": "stream",
     "text": [
      "Encoding m = b'DNA test results: Luke Skywalker and Darth Vader are related'\n",
      "255\n"
     ]
    }
   ],
   "source": [
    "m = \"DNA test results: Luke Skywalker and Darth Vader are related\".encode(\n",
    "    \"ascii\")\n",
    "key = \"darth123\".encode(\"ascii\")\n",
    "print(\"Encoding m =\", m)\n",
    "\n",
    "\n",
    "def xor_bytes(m, k):\n",
    "    c = []\n",
    "    for i in range(len(m)):\n",
    "        # For each letter in the message, we xor it with the value from the key\n",
    "        # The key's value uses modulus to repeat the key and use the letters in the appropriate spot\n",
    "        c.append(m[i] ^ key[i % len(k)])\n",
    "    return c\n",
    "print (c)\n"
   ]
  },
  {
   "cell_type": "code",
   "execution_count": 2,
   "metadata": {},
   "outputs": [],
   "source": [
    "def isqrt(n):\n",
    "    x = n\n",
    "    y = (x + n // x) // 2\n",
    "    while y < x:\n",
    "        x = y\n",
    "        y = (x + n // x) // 2\n",
    "    return x\n",
    "\n",
    "\n",
    "def fermat(n):\n",
    "    a = isqrt(n)\n",
    "    b2 = a*a - n\n",
    "    b = isqrt(n)\n",
    "    count = 0\n",
    "    while b*b != b2:\n",
    "        a = a + 1\n",
    "        b2 = a*a - n\n",
    "        b = isqrt(b2)\n",
    "        count += 1\n",
    "    p = a+b\n",
    "    q = a-b\n",
    "    assert n == p * q\n",
    "    return p, q\n",
    "\n",
    "\n",
    "print(fermat(25083017086314967114061751681969470775795402592206227257253684298080659343926294937729517299335741))\n"
   ]
  }
 ],
 "metadata": {
  "interpreter": {
   "hash": "aee8b7b246df8f9039afb4144a1f6fd8d2ca17a180786b69acc140d282b71a49"
  },
  "kernelspec": {
   "display_name": "Python 3.10.0 64-bit",
   "language": "python",
   "name": "python3"
  },
  "language_info": {
   "codemirror_mode": {
    "name": "ipython",
    "version": 3
   },
   "file_extension": ".py",
   "mimetype": "text/x-python",
   "name": "python",
   "nbconvert_exporter": "python",
   "pygments_lexer": "ipython3",
   "version": "3.9.7"
  },
  "orig_nbformat": 4
 },
 "nbformat": 4,
 "nbformat_minor": 2
}
