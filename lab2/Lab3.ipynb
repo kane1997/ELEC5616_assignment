{
 "cells": [
  {
   "cell_type": "markdown",
   "id": "catholic-toolbox",
   "metadata": {},
   "source": [
    "# Lab 3: Key Exchange and Breaking DES\n",
    "## 1. Breaking DES\n",
    "The key space of DES is $2^{56}$. If a secret key `k` was selected purely at random from the keyspace, an adversary would on average have to attempt $2^{55}$ possible keys (half the key space) before encountering the correct key.\n",
    "### 1.1 Questions\n",
    "Imagine you were performing a chosen-plaintext attack on DES. Is there a property of DES that would allow you to reduce your work by a factor of 2 (i.e. to $2^{54}$)?"
   ]
  },
  {
   "cell_type": "markdown",
   "id": "clear-islam",
   "metadata": {},
   "source": []
  },
  {
   "cell_type": "markdown",
   "id": "relevant-disaster",
   "metadata": {},
   "source": [
    "DESX is an improvement on the strength of normal DES by adding two extra keys, `DESX(m) = k3 ⊕ Ek1(m ⊕ k2)`. Imagine we created DES$X/2$ (or\n",
    "DES Half X) by instead computing `E(m) = k3 ⊕ Ek1(m)`. How would you go about breaking this cypher, assuming you have two plaintext-cyphertext pairs. Thus, how much stronger is DES$X/2$ compared to normal DES? Why does the whitening key added to DESX (i.e. `m ⊕ k2`) prevent the the attack we used on DES$X/2$?"
   ]
  },
  {
   "cell_type": "markdown",
   "id": "hired-mining",
   "metadata": {},
   "source": []
  },
  {
   "cell_type": "markdown",
   "id": "accompanied-folder",
   "metadata": {},
   "source": [
    "## 2 Merkle’s Puzzles\n",
    "Merkle’s Puzzles is a conceptually simple public-key cryptosystem. Alice, wanting to speak securely to Bob, generates `m` boxes and sends them to Bob. Each box is encrypted using an easily broken cypher (for some definition of “easily”) and contains the box number `bi` and a stronger shared secret `k`.\n",
    "\n",
    "Bob selects a box at random, breaks it, and sends the previously secret box number `bi` back to Alice. Alice and Bob now have a shared secret `k`.\n",
    "\n",
    "To retrieve their shared secret, Bob only needs to open a single box. Our eavesdropping attacker Eve however would statistically need to open $m/2$ boxes before finding box `bi`.\n",
    "\n",
    "Attached to this lab is the source code for a minimal Merkle Puzzle system. For each of the puzzles, a key and the box number are encrypted using a simple DES cypher. Note the speed at which a large number of puzzles may be generated and how slow it can be to break each of these boxes. The latter can be seen by increasing or decreasing the key complexity.\n"
   ]
  },
  {
   "cell_type": "code",
   "execution_count": 1,
   "id": "parental-lender",
   "metadata": {},
   "outputs": [
    {
     "name": "stdout",
     "output_type": "stream",
     "text": [
      "Alice and Bob agree the puzzle key strings will be padded from length 4, and that Alice will send 10000 puzzles.\n",
      "\n",
      "Alice generates the 10000 puzzles. She records their order and their contents.\n",
      "\n",
      "Alice encrypts all of the puzzles using DES and shuffles them around so they are no longer in order.\n",
      "\n",
      "Alice sends the shuffled, encrypted collection of puzzles to Bob.\n",
      "\n",
      "Bob randomly selects the puzzle at position 5104 in the shuffled list. It looks like the ciphertext b'\\xa9a\\xf8\\xef\\xff\\x19$\\xedG\\xa5\\xa2\\x90\\x01\\x08\\xf4t\\x9dB\\x8f\\x80P\\xc4\\xde\\xd5\\xd3\\x82\\xca\\xd6\\xe3\\xd8\\xde\\x08I\\xd1\\x8b\\xd1\\xfc\\xb4\\xa9\\x00?\\x8c\\xb8\\x86\\xffs~\\xad'.\n",
      "\n",
      "Bob now attempts to brute-force the known-length key to his chosen puzzle.\n",
      "\n",
      "Bob guesses the key in 34563 attempts over approximately 0 seconds and retrieves the message: b'Key=TIRWFENYVFXESB26SYD597Z6ZJSQOD & Puzzle=4883'.\n",
      "\n",
      "Bob sends back to Alice that he opened puzzle 4883.\n",
      "\n",
      "Alice looks at her original non-shuffled, unencrypted list of puzzles and picks number 4883. She now has the same key as Bob.\n",
      "\n",
      "Eve, who was watching communications both ways, cannot know the key without opening every puzzle, which would take her on average 5000 times as long as it took Bob to open one puzzle, or approximately 1743 seconds.\n",
      "\n"
     ]
    }
   ],
   "source": [
    "# Merkle.java from lab converted to Python\n",
    "\n",
    "import string\n",
    "import random\n",
    "import time\n",
    "from Crypto.Cipher import DES\n",
    "\n",
    "\n",
    "# Make a random string length l\n",
    "def random_bytes(l):\n",
    "    return ''.join(random.choices(string.ascii_uppercase + string.digits, k = l)).encode()\n",
    "\n",
    "\n",
    "# Make a random DES-compatible key length l\n",
    "def  random_key(l):\n",
    "    \n",
    "    k = random_bytes(l) + b\"00000000\" \n",
    "    return k[0:8] \n",
    "\n",
    "\n",
    "# Encrypt with DES\n",
    "def  encrypt(k,  m):\n",
    "    \n",
    "    cipher = DES.new(k, DES.MODE_ECB)\n",
    "    while len(m) % 8: \n",
    "        m = m + b\" \" # Pad message with whitespace for ECB mode\n",
    "    c = cipher.encrypt(m)\n",
    "    return c\n",
    "\n",
    "\n",
    "# Decrypt with DES\n",
    "def  decrypt(k,  c) :\n",
    " \n",
    "    cipher = DES.new(k, DES.MODE_ECB)\n",
    "    m = cipher.decrypt(c)\n",
    "    m = m.rstrip() # Remove padding\n",
    "    return m\n",
    "\n",
    "\n",
    "key_len = 4 # Values greater than 8 will be reduced to 8 by the random_key function, as required by DES\n",
    "n_puzzles = 10000\n",
    "print(f\"Alice and Bob agree the puzzle key strings will be padded from length %d, and that Alice will send %d puzzles.\\n\" % (key_len, n_puzzles))\n",
    "\n",
    "puzzles =  []\n",
    "for i in range(n_puzzles):\n",
    "    k = random_key(key_len)\n",
    "    m = b\"Key=\" + random_bytes(30) + b\" & Puzzle=\" + str(i).encode()\n",
    "    c = encrypt(k, m)\n",
    "    puzzles.append(c)\n",
    "print(f\"Alice generates the %d puzzles. She records their order and their contents.\\n\" % n_puzzles)\n",
    "print(f\"Alice encrypts all of the puzzles using DES and shuffles them around so they are no longer in order.\\n\")\n",
    "shuffled = random.sample(puzzles, n_puzzles)\n",
    "\n",
    "print(\"Alice sends the shuffled, encrypted collection of puzzles to Bob.\\n\")\n",
    "\n",
    "i = random.randint(0, n_puzzles)\n",
    "c = shuffled[i]\n",
    "print(f\"Bob randomly selects the puzzle at position %d in the shuffled list. It looks like the ciphertext %s.\\n\" % (i, c))\n",
    "\n",
    "print(\"Bob now attempts to brute-force the known-length key to his chosen puzzle.\\n\")\n",
    "tic = time.time()\n",
    "m = None\n",
    "attempts = 0\n",
    "while (m is None or not b\"Key=\" in m):\n",
    "    \n",
    "    attempts += 1\n",
    "    k = random_key(key_len)\n",
    "    m = decrypt(k, c)\n",
    "toc = time.time() - tic\n",
    "\n",
    "print(\"Bob guesses the key in %d attempts over approximately %d seconds and retrieves the message: %s.\\n\" % (attempts, toc, m))\n",
    "\n",
    "i = int(m[44:].decode())\n",
    "print(f\"Bob sends back to Alice that he opened puzzle %d.\\n\" % i)\n",
    "\n",
    "print(f\"Alice looks at her original non-shuffled, unencrypted list of puzzles and picks number %d. She now has the same key as Bob.\\n\" % i)\n",
    "print(f\"Eve, who was watching communications both ways, cannot know the key without opening every puzzle, which would take her on average %d times as long as it took Bob to open one puzzle, or approximately %d seconds.\\n\" % ((n_puzzles/2), (n_puzzles*toc/2)))\n"
   ]
  },
  {
   "cell_type": "markdown",
   "id": "regular-determination",
   "metadata": {},
   "source": [
    "### 2.1 Questions\n",
    "In the minimal Merkle Puzzle system example above, a symmetric cypher (DES) is used to “secure” the puzzle. Can a puzzle be secured using a Hashbased Message Authentication Codes (HMAC)? If so, how so? If not, why not?\n"
   ]
  },
  {
   "cell_type": "markdown",
   "id": "large-young",
   "metadata": {},
   "source": []
  },
  {
   "cell_type": "markdown",
   "id": "related-bundle",
   "metadata": {},
   "source": [
    "We have only considered an eavesdropping attacker Eve so far. Mallory, as oposed to Eve, can modify messages and even create her own. Does Merkle’s Puzzles by itself defend against Mallory in any way? Why not?"
   ]
  },
  {
   "cell_type": "markdown",
   "id": "miniature-sessions",
   "metadata": {},
   "source": []
  },
  {
   "cell_type": "markdown",
   "id": "satisfactory-julian",
   "metadata": {},
   "source": [
    "## 3. Diffie-Hellman Key Exchange\n",
    "\n",
    "Ensure you understand the steps for the Diffie-Hellman key exchange, particularly which variables become public and which remain private. A reduced version is given below but refer to Wikipedia or the Handbook of Applied Cryptography for more details.\n",
    "\n",
    "`A → B : α, p, α^a mod p`\n",
    "\n",
    "`B → A : α^b mod p`\n",
    "\n",
    "Shared secret `s = (α^a mod p) b mod p = (α^b mod p) a mod p`\n",
    "\n",
    "Shared key = `hash(s)`\n"
   ]
  },
  {
   "cell_type": "markdown",
   "id": "amateur-minutes",
   "metadata": {},
   "source": []
  }
 ],
 "metadata": {
  "kernelspec": {
   "display_name": "Python 3",
   "language": "python",
   "name": "python3"
  },
  "language_info": {
   "codemirror_mode": {
    "name": "ipython",
    "version": 3
   },
   "file_extension": ".py",
   "mimetype": "text/x-python",
   "name": "python",
   "nbconvert_exporter": "python",
   "pygments_lexer": "ipython3",
   "version": "3.10.0"
  }
 },
 "nbformat": 4,
 "nbformat_minor": 5
}
