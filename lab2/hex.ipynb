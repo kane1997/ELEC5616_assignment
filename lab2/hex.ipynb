{
 "cells": [
  {
   "cell_type": "code",
   "execution_count": 4,
   "metadata": {},
   "outputs": [
    {
     "ename": "KeyboardInterrupt",
     "evalue": "",
     "output_type": "error",
     "traceback": [
      "\u001b[0;31m---------------------------------------------------------------------------\u001b[0m",
      "\u001b[0;31mKeyboardInterrupt\u001b[0m                         Traceback (most recent call last)",
      "\u001b[1;32m/Users/kaiweizhao/Desktop/ELEC5616/lab2/hex.ipynb Cell 1'\u001b[0m in \u001b[0;36m<cell line: 24>\u001b[0;34m()\u001b[0m\n\u001b[1;32m     <a href='vscode-notebook-cell:/Users/kaiweizhao/Desktop/ELEC5616/lab2/hex.ipynb#ch0000002?line=19'>20</a>\u001b[0m \u001b[39m# calling function\u001b[39;00m\n\u001b[1;32m     <a href='vscode-notebook-cell:/Users/kaiweizhao/Desktop/ELEC5616/lab2/hex.ipynb#ch0000002?line=22'>23</a>\u001b[0m num \u001b[39m=\u001b[39m \u001b[39m5807714530322607624538543864475506562138532952259290642295588249953406467114272357383\u001b[39m\n\u001b[0;32m---> <a href='vscode-notebook-cell:/Users/kaiweizhao/Desktop/ELEC5616/lab2/hex.ipynb#ch0000002?line=23'>24</a>\u001b[0m prime_factors(num)\n",
      "\u001b[1;32m/Users/kaiweizhao/Desktop/ELEC5616/lab2/hex.ipynb Cell 1'\u001b[0m in \u001b[0;36mprime_factors\u001b[0;34m(num)\u001b[0m\n\u001b[1;32m     <a href='vscode-notebook-cell:/Users/kaiweizhao/Desktop/ELEC5616/lab2/hex.ipynb#ch0000002?line=9'>10</a>\u001b[0m     num \u001b[39m=\u001b[39m num \u001b[39m/\u001b[39m \u001b[39m2\u001b[39m\n\u001b[1;32m     <a href='vscode-notebook-cell:/Users/kaiweizhao/Desktop/ELEC5616/lab2/hex.ipynb#ch0000002?line=11'>12</a>\u001b[0m \u001b[39mfor\u001b[39;00m i \u001b[39min\u001b[39;00m \u001b[39mrange\u001b[39m(\u001b[39m3\u001b[39m, \u001b[39mint\u001b[39m(math\u001b[39m.\u001b[39msqrt(num)) \u001b[39m+\u001b[39m \u001b[39m1\u001b[39m, \u001b[39m2\u001b[39m):\n\u001b[1;32m     <a href='vscode-notebook-cell:/Users/kaiweizhao/Desktop/ELEC5616/lab2/hex.ipynb#ch0000002?line=12'>13</a>\u001b[0m \n\u001b[1;32m     <a href='vscode-notebook-cell:/Users/kaiweizhao/Desktop/ELEC5616/lab2/hex.ipynb#ch0000002?line=13'>14</a>\u001b[0m     \u001b[39m# while i divides n , print i ad divide n\u001b[39;00m\n\u001b[0;32m---> <a href='vscode-notebook-cell:/Users/kaiweizhao/Desktop/ELEC5616/lab2/hex.ipynb#ch0000002?line=14'>15</a>\u001b[0m     \u001b[39mwhile\u001b[39;00m num \u001b[39m%\u001b[39;49m i \u001b[39m==\u001b[39m \u001b[39m0\u001b[39m:\n\u001b[1;32m     <a href='vscode-notebook-cell:/Users/kaiweizhao/Desktop/ELEC5616/lab2/hex.ipynb#ch0000002?line=15'>16</a>\u001b[0m         \u001b[39mprint\u001b[39m(i,)\n\u001b[1;32m     <a href='vscode-notebook-cell:/Users/kaiweizhao/Desktop/ELEC5616/lab2/hex.ipynb#ch0000002?line=16'>17</a>\u001b[0m         num \u001b[39m=\u001b[39m num \u001b[39m/\u001b[39m i\n",
      "\u001b[0;31mKeyboardInterrupt\u001b[0m: "
     ]
    }
   ],
   "source": [
    "import math\n",
    "# Below function will print the\n",
    "# all prime factor of given number\n",
    "\n",
    "\n",
    "def prime_factors(num):\n",
    "    # Using the while loop, we will print the number of two's that divide n\n",
    "    while num % 2 == 0:\n",
    "        print(2,)\n",
    "        num = num / 2\n",
    "\n",
    "    for i in range(3, int(math.sqrt(num)) + 1, 2):\n",
    "\n",
    "        # while i divides n , print i ad divide n\n",
    "        while num % i == 0:\n",
    "            print(i,)\n",
    "            num = num / i\n",
    "    if num > 2:\n",
    "        print(num)\n",
    "# calling function\n",
    "\n",
    "\n",
    "num = 5807714530322607624538543864475506562138532952259290642295588249953406467114272357383\n",
    "prime_factors(num)\n"
   ]
  },
  {
   "cell_type": "code",
   "execution_count": 5,
   "metadata": {},
   "outputs": [
    {
     "ename": "KeyboardInterrupt",
     "evalue": "",
     "output_type": "error",
     "traceback": [
      "\u001b[0;31m---------------------------------------------------------------------------\u001b[0m",
      "\u001b[0;31mKeyboardInterrupt\u001b[0m                         Traceback (most recent call last)",
      "\u001b[1;32m/Users/kaiweizhao/Desktop/ELEC5616/lab2/hex.ipynb Cell 2'\u001b[0m in \u001b[0;36m<cell line: 6>\u001b[0;34m()\u001b[0m\n\u001b[1;32m      <a href='vscode-notebook-cell:/Users/kaiweizhao/Desktop/ELEC5616/lab2/hex.ipynb#ch0000006?line=2'>3</a>\u001b[0m \u001b[39mimport\u001b[39;00m \u001b[39msys\u001b[39;00m\n\u001b[1;32m      <a href='vscode-notebook-cell:/Users/kaiweizhao/Desktop/ELEC5616/lab2/hex.ipynb#ch0000006?line=4'>5</a>\u001b[0m n \u001b[39m=\u001b[39m \u001b[39m90171422874834653434665183729429832863541569346113336750180666407645248405523323003973\u001b[39m\n\u001b[0;32m----> <a href='vscode-notebook-cell:/Users/kaiweizhao/Desktop/ELEC5616/lab2/hex.ipynb#ch0000006?line=5'>6</a>\u001b[0m factors \u001b[39m=\u001b[39m \u001b[39mlist\u001b[39;49m(primefac\u001b[39m.\u001b[39;49mprimefac(n))\n\u001b[1;32m      <a href='vscode-notebook-cell:/Users/kaiweizhao/Desktop/ELEC5616/lab2/hex.ipynb#ch0000006?line=6'>7</a>\u001b[0m \u001b[39mprint\u001b[39m(factors)\n",
      "File \u001b[0;32m~/opt/anaconda3/lib/python3.9/site-packages/primefac/__init__.py:986\u001b[0m, in \u001b[0;36mprimefac\u001b[0;34m(n, trial, rho, verbose, methods)\u001b[0m\n\u001b[1;32m    <a href='file:///Users/kaiweizhao/opt/anaconda3/lib/python3.9/site-packages/primefac/__init__.py?line=983'>984</a>\u001b[0m n \u001b[39m=\u001b[39m factors\u001b[39m.\u001b[39mpop()\n\u001b[1;32m    <a href='file:///Users/kaiweizhao/opt/anaconda3/lib/python3.9/site-packages/primefac/__init__.py?line=984'>985</a>\u001b[0m \u001b[39mif\u001b[39;00m verbose: \u001b[39mprint\u001b[39m(\u001b[39m\"\u001b[39m\u001b[39mBeginning \u001b[39m\u001b[39m%s\u001b[39;00m\u001b[39m on \u001b[39m\u001b[39m%d\u001b[39;00m\u001b[39m.\u001b[39m\u001b[39m\"\u001b[39m \u001b[39m%\u001b[39m (name, n))\n\u001b[0;32m--> <a href='file:///Users/kaiweizhao/opt/anaconda3/lib/python3.9/site-packages/primefac/__init__.py?line=985'>986</a>\u001b[0m f \u001b[39m=\u001b[39m method(n, verbose\u001b[39m=\u001b[39;49mverbose)\n\u001b[1;32m    <a href='file:///Users/kaiweizhao/opt/anaconda3/lib/python3.9/site-packages/primefac/__init__.py?line=986'>987</a>\u001b[0m g \u001b[39m=\u001b[39m n \u001b[39m/\u001b[39m\u001b[39m/\u001b[39m f\n\u001b[1;32m    <a href='file:///Users/kaiweizhao/opt/anaconda3/lib/python3.9/site-packages/primefac/__init__.py?line=987'>988</a>\u001b[0m \u001b[39mif\u001b[39;00m verbose: \u001b[39mprint\u001b[39m(\u001b[39m\"\u001b[39m\u001b[39m%s\u001b[39;00m\u001b[39m split \u001b[39m\u001b[39m%d\u001b[39;00m\u001b[39m into \u001b[39m\u001b[39m%d\u001b[39;00m\u001b[39m and \u001b[39m\u001b[39m%d\u001b[39;00m\u001b[39m.\u001b[39m\u001b[39m\"\u001b[39m \u001b[39m%\u001b[39m (name, n, f, g))\n",
      "File \u001b[0;32m~/opt/anaconda3/lib/python3.9/site-packages/primefac/__init__.py:317\u001b[0m, in \u001b[0;36mpollardrho_brent\u001b[0;34m(n, verbose)\u001b[0m\n\u001b[1;32m    <a href='file:///Users/kaiweizhao/opt/anaconda3/lib/python3.9/site-packages/primefac/__init__.py?line=314'>315</a>\u001b[0m ys \u001b[39m=\u001b[39m y\n\u001b[1;32m    <a href='file:///Users/kaiweizhao/opt/anaconda3/lib/python3.9/site-packages/primefac/__init__.py?line=315'>316</a>\u001b[0m \u001b[39mfor\u001b[39;00m i \u001b[39min\u001b[39;00m \u001b[39mrange\u001b[39m(\u001b[39mmin\u001b[39m(m, r\u001b[39m-\u001b[39mk)):\n\u001b[0;32m--> <a href='file:///Users/kaiweizhao/opt/anaconda3/lib/python3.9/site-packages/primefac/__init__.py?line=316'>317</a>\u001b[0m     y \u001b[39m=\u001b[39m (y\u001b[39m*\u001b[39;49m\u001b[39m*\u001b[39;49m\u001b[39m2\u001b[39;49m \u001b[39m+\u001b[39m c) \u001b[39m%\u001b[39m n\n\u001b[1;32m    <a href='file:///Users/kaiweizhao/opt/anaconda3/lib/python3.9/site-packages/primefac/__init__.py?line=317'>318</a>\u001b[0m     q \u001b[39m=\u001b[39m q \u001b[39m*\u001b[39m \u001b[39mabs\u001b[39m(x\u001b[39m-\u001b[39my) \u001b[39m%\u001b[39m n\n\u001b[1;32m    <a href='file:///Users/kaiweizhao/opt/anaconda3/lib/python3.9/site-packages/primefac/__init__.py?line=318'>319</a>\u001b[0m g, k \u001b[39m=\u001b[39m gcd(q, n), k\u001b[39m+\u001b[39mm\n",
      "\u001b[0;31mKeyboardInterrupt\u001b[0m: "
     ]
    }
   ],
   "source": [
    "import primefac\n",
    "\n",
    "import sys\n",
    "\n",
    "n = 90171422874834653434665183729429832863541569346113336750180666407645248405523323003973\n",
    "factors = list(primefac.primefac(n))\n",
    "print(factors)\n"
   ]
  }
 ],
 "metadata": {
  "interpreter": {
   "hash": "7e1998ff7f8aa20ada591c520b972326324e5ea05489af9e422744c7c09f6dad"
  },
  "kernelspec": {
   "display_name": "Python 3.10.0 64-bit",
   "language": "python",
   "name": "python3"
  },
  "language_info": {
   "codemirror_mode": {
    "name": "ipython",
    "version": 3
   },
   "file_extension": ".py",
   "mimetype": "text/x-python",
   "name": "python",
   "nbconvert_exporter": "python",
   "pygments_lexer": "ipython3",
   "version": "3.9.7"
  },
  "orig_nbformat": 4
 },
 "nbformat": 4,
 "nbformat_minor": 2
}
